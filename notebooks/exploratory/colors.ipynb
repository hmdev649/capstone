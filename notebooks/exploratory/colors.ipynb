{
 "cells": [
  {
   "cell_type": "code",
   "execution_count": 1,
   "metadata": {},
   "outputs": [],
   "source": [
    "def hex_to_RGB(hex):\n",
    "  ''' \"#FFFFFF\" -> [255,255,255] '''\n",
    "  # Pass 16 to the integer function for change of base\n",
    "  return [int(hex[i:i+2], 16) for i in range(1,6,2)]\n",
    "\n",
    "\n",
    "def RGB_to_hex(RGB):\n",
    "  ''' [255,255,255] -> \"#FFFFFF\" '''\n",
    "  # Components need to be integers for hex to make sense\n",
    "  RGB = [int(x) for x in RGB]\n",
    "  return \"#\"+\"\".join([\"0{0:x}\".format(v) if v < 16 else\n",
    "            \"{0:x}\".format(v) for v in RGB])"
   ]
  },
  {
   "cell_type": "code",
   "execution_count": 44,
   "metadata": {},
   "outputs": [],
   "source": [
    "def color_dict(gradient):\n",
    "    ''' Takes in a list of RGB sub-lists and returns dictionary of colors in RGB \n",
    "    and hex form for use in a graphing function defined later on '''\n",
    "    \n",
    "    return {\"hex\":[RGB_to_hex(RGB) for RGB in gradient],\n",
    "      \"r\":[RGB[0] for RGB in gradient],\n",
    "      \"g\":[RGB[1] for RGB in gradient],\n",
    "      \"b\":[RGB[2] for RGB in gradient]}\n",
    "\n",
    "\n",
    "def linear_gradient(start_hex, finish_hex=\"#FFFFFF\", n=10):\n",
    "    ''' returns a gradient list of (n) colors between two hex colors. start_hex \n",
    "    and finish_hex should be the full six-digit color string, inlcuding the \n",
    "    number sign (\"#FFFFFF\") '''\n",
    "\n",
    "    # Starting and ending colors in RGB form\n",
    "    s = hex_to_RGB(start_hex)\n",
    "    f = hex_to_RGB(finish_hex)\n",
    "#     print(s, f)\n",
    "    \n",
    "    # Initilize a list of the output colors with the starting color\n",
    "    RGB_list = [s]\n",
    "    \n",
    "    # Calcuate a color at each evenly spaced value of t from 1 to n\n",
    "    for t in range(1, n):\n",
    "        # Interpolate RGB vector for color at the current value of t\n",
    "        curr_vector = [int(s[j] + (float(t)/(n-1))*(f[j]-s[j])) for j in range(3)]\n",
    "        \n",
    "        # Add it to our list of output colors\n",
    "        RGB_list.append(curr_vector)\n",
    "\n",
    "#     print(RGB_list)\n",
    "    return color_dict(RGB_list)\n"
   ]
  },
  {
   "cell_type": "code",
   "execution_count": 45,
   "metadata": {},
   "outputs": [],
   "source": [
    "red = '#ff0000'\n",
    "green = '#00ff00'"
   ]
  },
  {
   "cell_type": "code",
   "execution_count": 46,
   "metadata": {},
   "outputs": [
    {
     "data": {
      "text/plain": [
       "['#ff0000',\n",
       " '#f40a00',\n",
       " '#ea1400',\n",
       " '#e01e00',\n",
       " '#d62800',\n",
       " '#cc3300',\n",
       " '#c13d00',\n",
       " '#b74700',\n",
       " '#ad5100',\n",
       " '#a35b00',\n",
       " '#996600',\n",
       " '#8e7000',\n",
       " '#847a00',\n",
       " '#7a8400',\n",
       " '#708e00',\n",
       " '#669900',\n",
       " '#5ba300',\n",
       " '#51ad00',\n",
       " '#47b700',\n",
       " '#3dc100',\n",
       " '#33cc00',\n",
       " '#28d600',\n",
       " '#1ee000',\n",
       " '#14ea00',\n",
       " '#0af400',\n",
       " '#00ff00']"
      ]
     },
     "execution_count": 46,
     "metadata": {},
     "output_type": "execute_result"
    }
   ],
   "source": [
    "linear_gradient(start_hex=red, finish_hex=green, n=26)['hex']"
   ]
  },
  {
   "cell_type": "code",
   "execution_count": null,
   "metadata": {},
   "outputs": [],
   "source": []
  }
 ],
 "metadata": {
  "kernelspec": {
   "display_name": "Python 3",
   "language": "python",
   "name": "python3"
  },
  "language_info": {
   "codemirror_mode": {
    "name": "ipython",
    "version": 3
   },
   "file_extension": ".py",
   "mimetype": "text/x-python",
   "name": "python",
   "nbconvert_exporter": "python",
   "pygments_lexer": "ipython3",
   "version": "3.7.6"
  }
 },
 "nbformat": 4,
 "nbformat_minor": 4
}
